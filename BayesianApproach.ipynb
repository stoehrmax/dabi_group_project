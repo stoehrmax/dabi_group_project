{
 "cells": [
  {
   "cell_type": "code",
   "execution_count": 1,
   "id": "organizational-consciousness",
   "metadata": {},
   "outputs": [
    {
     "name": "stdout",
     "output_type": "stream",
     "text": [
      "Running on PyMC3 v3.11.2\n"
     ]
    }
   ],
   "source": [
    "import warnings\n",
    "\n",
    "import arviz as az\n",
    "import matplotlib.pyplot as plt\n",
    "import numpy as np\n",
    "import pandas as pd\n",
    "import pymc3 as pm\n",
    "import xarray as xr\n",
    "\n",
    "from theano import tensor as tt\n",
    "\n",
    "print(f\"Running on PyMC3 v{pm.__version__}\")\n",
    "warnings.simplefilter(action=\"ignore\", category=FutureWarning)\n",
    "RANDOM_SEED = 42\n",
    "np.random.seed(42)"
   ]
  },
  {
   "cell_type": "code",
   "execution_count": 2,
   "id": "cardiovascular-emission",
   "metadata": {},
   "outputs": [],
   "source": [
    "az.style.use(\"arviz-darkgrid\")\n",
    "df = pd.read_csv(\"data/UCAS.csv\")"
   ]
  },
  {
   "cell_type": "code",
   "execution_count": 4,
   "id": "verified-unemployment",
   "metadata": {},
   "outputs": [],
   "source": [
    "df = df.drop(columns=[\"Unnamed: 0\"])"
   ]
  },
  {
   "cell_type": "code",
   "execution_count": 9,
   "id": "sublime-butler",
   "metadata": {},
   "outputs": [],
   "source": [
    "df.columns = df.columns.map(lambda x: x.replace(\".\", \"_\")).map(str.lower)"
   ]
  },
  {
   "cell_type": "code",
   "execution_count": 10,
   "id": "brilliant-taste",
   "metadata": {},
   "outputs": [
    {
     "data": {
      "text/plain": [
       "Index(['year', 'simd_2012_2016_quintile', 'gender', 'age_group',\n",
       "       'scottish_applicants', 'accepted_scottish_applicants'],\n",
       "      dtype='object')"
      ]
     },
     "execution_count": 10,
     "metadata": {},
     "output_type": "execute_result"
    }
   ],
   "source": [
    "df.columns"
   ]
  },
  {
   "cell_type": "code",
   "execution_count": 12,
   "id": "another-header",
   "metadata": {},
   "outputs": [],
   "source": [
    "df[\"acceptance_rate\"] = df[\"accepted_scottish_applicants\"]/df[\"scottish_applicants\"]"
   ]
  },
  {
   "cell_type": "code",
   "execution_count": 19,
   "id": "warming-devices",
   "metadata": {},
   "outputs": [],
   "source": [
    "quintiles = df.simd_2012_2016_quintile.unique()\n",
    "quintile_lookup = dict(zip(quintiles, range(len(quintiles))))\n",
    "years = df.year.unique()\n",
    "year_lookup = dict(zip(years, range(len(years))))\n",
    "gender = df.gender.unique()\n",
    "gender_lookup = dict(zip(gender, range(len(gender))))\n",
    "age_group = df.age_group.unique()\n",
    "age_lookup = dict(zip(age_group, range(len(age_group))))"
   ]
  },
  {
   "cell_type": "code",
   "execution_count": 26,
   "id": "figured-intermediate",
   "metadata": {},
   "outputs": [],
   "source": [
    "quintile = df.simd_2012_2016_quintile = df.simd_2012_2016_quintile.replace(quintile_lookup).values\n",
    "year = df.year = df.year.replace(year_lookup).values\n",
    "gender = df.gender = df.gender.replace(gender_lookup).values\n",
    "age = df.age_group = df.age_group.replace(age_lookup).values"
   ]
  },
  {
   "cell_type": "code",
   "execution_count": 28,
   "id": "packed-stick",
   "metadata": {},
   "outputs": [],
   "source": [
    "acceptance_rate = df.acceptance_rate"
   ]
  },
  {
   "cell_type": "markdown",
   "id": "configured-anxiety",
   "metadata": {},
   "source": [
    "## Pooled model"
   ]
  },
  {
   "cell_type": "code",
   "execution_count": 33,
   "id": "single-samba",
   "metadata": {},
   "outputs": [],
   "source": [
    "with pm.Model() as pooled:\n",
    "    alpha = pm.Normal(\"alpha\", 0.0, sigma=10.0)\n",
    "    sigma = pm.Exponential(\"sigma\", 1.0)\n",
    "    y = pm.Normal(\"y\", alpha, sigma=sigma, observed=acceptance_rate)"
   ]
  },
  {
   "cell_type": "code",
   "execution_count": 35,
   "id": "empty-keyboard",
   "metadata": {},
   "outputs": [
    {
     "ename": "ImportError",
     "evalue": "This function requires the python library graphviz, along with binaries. The easiest way to install all of this is by running\n\n\tconda install -c conda-forge python-graphviz",
     "output_type": "error",
     "traceback": [
      "\u001b[0;31m---------------------------------------------------------------------------\u001b[0m",
      "\u001b[0;31mModuleNotFoundError\u001b[0m                       Traceback (most recent call last)",
      "\u001b[0;32m/opt/anaconda3/anaconda3/envs/pymc3/lib/python3.8/site-packages/pymc3/model_graph.py\u001b[0m in \u001b[0;36mmake_graph\u001b[0;34m(self, formatting)\u001b[0m\n\u001b[1;32m    192\u001b[0m         \u001b[0;32mtry\u001b[0m\u001b[0;34m:\u001b[0m\u001b[0;34m\u001b[0m\u001b[0;34m\u001b[0m\u001b[0m\n\u001b[0;32m--> 193\u001b[0;31m             \u001b[0;32mimport\u001b[0m \u001b[0mgraphviz\u001b[0m\u001b[0;34m\u001b[0m\u001b[0;34m\u001b[0m\u001b[0m\n\u001b[0m\u001b[1;32m    194\u001b[0m         \u001b[0;32mexcept\u001b[0m \u001b[0mImportError\u001b[0m\u001b[0;34m:\u001b[0m\u001b[0;34m\u001b[0m\u001b[0;34m\u001b[0m\u001b[0m\n",
      "\u001b[0;31mModuleNotFoundError\u001b[0m: No module named 'graphviz'",
      "\nDuring handling of the above exception, another exception occurred:\n",
      "\u001b[0;31mImportError\u001b[0m                               Traceback (most recent call last)",
      "\u001b[0;32m<ipython-input-35-ed03d0a1d0a3>\u001b[0m in \u001b[0;36m<module>\u001b[0;34m\u001b[0m\n\u001b[0;32m----> 1\u001b[0;31m \u001b[0mpm\u001b[0m\u001b[0;34m.\u001b[0m\u001b[0mmodel_to_graphviz\u001b[0m\u001b[0;34m(\u001b[0m\u001b[0mpooled\u001b[0m\u001b[0;34m)\u001b[0m\u001b[0;34m\u001b[0m\u001b[0;34m\u001b[0m\u001b[0m\n\u001b[0m",
      "\u001b[0;32m/opt/anaconda3/anaconda3/envs/pymc3/lib/python3.8/site-packages/pymc3/model_graph.py\u001b[0m in \u001b[0;36mmodel_to_graphviz\u001b[0;34m(model, formatting)\u001b[0m\n\u001b[1;32m    241\u001b[0m         \u001b[0;32mraise\u001b[0m \u001b[0mValueError\u001b[0m\u001b[0;34m(\u001b[0m\u001b[0;34mf\"Unsupported formatting for graph nodes: '{formatting}'. See docstring.\"\u001b[0m\u001b[0;34m)\u001b[0m\u001b[0;34m\u001b[0m\u001b[0;34m\u001b[0m\u001b[0m\n\u001b[1;32m    242\u001b[0m     \u001b[0mmodel\u001b[0m \u001b[0;34m=\u001b[0m \u001b[0mpm\u001b[0m\u001b[0;34m.\u001b[0m\u001b[0mmodelcontext\u001b[0m\u001b[0;34m(\u001b[0m\u001b[0mmodel\u001b[0m\u001b[0;34m)\u001b[0m\u001b[0;34m\u001b[0m\u001b[0;34m\u001b[0m\u001b[0m\n\u001b[0;32m--> 243\u001b[0;31m     \u001b[0;32mreturn\u001b[0m \u001b[0mModelGraph\u001b[0m\u001b[0;34m(\u001b[0m\u001b[0mmodel\u001b[0m\u001b[0;34m)\u001b[0m\u001b[0;34m.\u001b[0m\u001b[0mmake_graph\u001b[0m\u001b[0;34m(\u001b[0m\u001b[0mformatting\u001b[0m\u001b[0;34m=\u001b[0m\u001b[0mformatting\u001b[0m\u001b[0;34m)\u001b[0m\u001b[0;34m\u001b[0m\u001b[0;34m\u001b[0m\u001b[0m\n\u001b[0m",
      "\u001b[0;32m/opt/anaconda3/anaconda3/envs/pymc3/lib/python3.8/site-packages/pymc3/model_graph.py\u001b[0m in \u001b[0;36mmake_graph\u001b[0;34m(self, formatting)\u001b[0m\n\u001b[1;32m    193\u001b[0m             \u001b[0;32mimport\u001b[0m \u001b[0mgraphviz\u001b[0m\u001b[0;34m\u001b[0m\u001b[0;34m\u001b[0m\u001b[0m\n\u001b[1;32m    194\u001b[0m         \u001b[0;32mexcept\u001b[0m \u001b[0mImportError\u001b[0m\u001b[0;34m:\u001b[0m\u001b[0;34m\u001b[0m\u001b[0;34m\u001b[0m\u001b[0m\n\u001b[0;32m--> 195\u001b[0;31m             raise ImportError(\n\u001b[0m\u001b[1;32m    196\u001b[0m                 \u001b[0;34m\"This function requires the python library graphviz, along with binaries. \"\u001b[0m\u001b[0;34m\u001b[0m\u001b[0;34m\u001b[0m\u001b[0m\n\u001b[1;32m    197\u001b[0m                 \u001b[0;34m\"The easiest way to install all of this is by running\\n\\n\"\u001b[0m\u001b[0;34m\u001b[0m\u001b[0;34m\u001b[0m\u001b[0m\n",
      "\u001b[0;31mImportError\u001b[0m: This function requires the python library graphviz, along with binaries. The easiest way to install all of this is by running\n\n\tconda install -c conda-forge python-graphviz"
     ]
    }
   ],
   "source": [
    "pm.model_to_graphviz(pooled)"
   ]
  },
  {
   "cell_type": "code",
   "execution_count": null,
   "id": "chronic-roman",
   "metadata": {},
   "outputs": [],
   "source": []
  }
 ],
 "metadata": {
  "kernelspec": {
   "display_name": "Python 3",
   "language": "python",
   "name": "python3"
  },
  "language_info": {
   "codemirror_mode": {
    "name": "ipython",
    "version": 3
   },
   "file_extension": ".py",
   "mimetype": "text/x-python",
   "name": "python",
   "nbconvert_exporter": "python",
   "pygments_lexer": "ipython3",
   "version": "3.8.8"
  }
 },
 "nbformat": 4,
 "nbformat_minor": 5
}
